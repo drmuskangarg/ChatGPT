{
  "nbformat": 4,
  "nbformat_minor": 0,
  "metadata": {
    "colab": {
      "provenance": [],
      "authorship_tag": "ABX9TyOvXo8HYHXuytBZkNiaOfGy",
      "include_colab_link": true
    },
    "kernelspec": {
      "name": "python3",
      "display_name": "Python 3"
    },
    "language_info": {
      "name": "python"
    }
  },
  "cells": [
    {
      "cell_type": "markdown",
      "metadata": {
        "id": "view-in-github",
        "colab_type": "text"
      },
      "source": [
        "<a href=\"https://colab.research.google.com/github/drmuskangarg/ChatGPT/blob/main/Tokenization.ipynb\" target=\"_parent\"><img src=\"https://colab.research.google.com/assets/colab-badge.svg\" alt=\"Open In Colab\"/></a>"
      ]
    },
    {
      "cell_type": "code",
      "execution_count": 18,
      "metadata": {
        "id": "z3Jp8yRzeltX"
      },
      "outputs": [],
      "source": [
        "import re\n",
        "\n",
        "def clean_text(text):\n",
        "    # Remove punctuation marks\n",
        "    text = re.sub(r'[^\\w\\s]', '', text)\n",
        "    # Remove leading/trailing white space\n",
        "    text = text.strip()\n",
        "    return text"
      ]
    },
    {
      "cell_type": "code",
      "source": [
        "def lowercase_text(texts):\n",
        "    return texts.lower()"
      ],
      "metadata": {
        "id": "ChqkLCUDexjJ"
      },
      "execution_count": 19,
      "outputs": []
    },
    {
      "cell_type": "code",
      "source": [
        "def tokenize_text(texts):\n",
        "    return texts.split()"
      ],
      "metadata": {
        "id": "QpG3llaxif8i"
      },
      "execution_count": 20,
      "outputs": []
    },
    {
      "cell_type": "code",
      "source": [
        "def index_tokens(tokens):\n",
        "    indexed_tokens = [(i, token) for i, token in enumerate(tokens)]\n",
        "    return indexed_tokens"
      ],
      "metadata": {
        "id": "rVaQ0GsDjQz7"
      },
      "execution_count": 21,
      "outputs": []
    },
    {
      "cell_type": "code",
      "source": [
        "text = \"The quick brown fox jumps over the lazy dog.\"\n",
        "cleaned_text = clean_text(text)\n",
        "lowercase_text = lowercase_text(cleaned_text)\n",
        "tokens = tokenize_text(lowercase_text)\n",
        "indexed_tokens = index_tokens(tokens)\n",
        "print(indexed_tokens)\n"
      ],
      "metadata": {
        "colab": {
          "base_uri": "https://localhost:8080/"
        },
        "id": "He35S_O1ko0p",
        "outputId": "48999c72-4c2f-441d-d63a-5c4bb77d858e"
      },
      "execution_count": 22,
      "outputs": [
        {
          "output_type": "stream",
          "name": "stdout",
          "text": [
            "[(0, 'the'), (1, 'quick'), (2, 'brown'), (3, 'fox'), (4, 'jumps'), (5, 'over'), (6, 'the'), (7, 'lazy'), (8, 'dog')]\n"
          ]
        }
      ]
    }
  ]
}